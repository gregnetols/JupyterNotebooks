{
  "cells": [
    {
      "cell_type": "markdown",
      "metadata": {
        "deletable": true,
        "editable": true
      },
      "source": [
        "# Two Six Captial - Candidate Data Engineering Challenge\n",
        "\n",
        " Greg Netols\n",
        "\n",
        " Decemeber 14, 2017\n"
      ]
    },
    {
      "cell_type": "code",
      "metadata": {
        "deletable": true,
        "editable": true
      },
      "source": [
        "import numpy as np\n",
        "import pandas as pd\n",
        "\n",
        "import locale\n",
        "locale.setlocale( locale.LC_ALL, 'English_United States.1252')\n",
        "\n",
        "import matplotlib.pyplot as plt\n",
        "import seaborn as sns\n",
        "sns.set(style='white')\n",
        "sns.set(font_scale=1.25)\n"
      ],
      "outputs": [],
      "execution_count": 0
    },
    {
      "cell_type": "markdown",
      "metadata": {
        "deletable": true,
        "editable": true
      },
      "source": [
        "# 1 Parsing the files to dataframes\n",
        "\n",
        "Even though all files were downloaded as CSV formatted files the 2013, 2014, and 2015 transaction files are in a tab delimited format. The 2016 transactions were in a true CSV format however there was a parse error on line 310 due to the line containing 8 columns instead of 5. After the row on line 310 was manually cleaned it was discovered that this was a problem through out the rest of the file. The error_bad_lines parameter was then set to False to get a print out of the remaining bad rows. Seeing that there were only 6 more lines that needed to be fixed it made sense to manually fix them rather than ignoring or creating a programatic way to handle them.\n"
      ]
    },
    {
      "cell_type": "code",
      "metadata": {
        "deletable": true,
        "editable": true
      },
      "source": [
        "transactions2013 = pd.read_csv('C:\\\\FlatFiles\\\\TwoSix\\\\transactions_2013.csv', sep='\\t')\n",
        "transactions2014 = pd.read_csv('C:\\\\FlatFiles\\\\TwoSix\\\\transactions_2014.csv', sep='\\t')\n",
        "transactions2015 = pd.read_csv('C:\\\\FlatFiles\\\\TwoSix\\\\transactions_2015.csv', sep='\\t')\n",
        "transactions2016 = pd.read_csv('C:\\\\FlatFiles\\\\TwoSix\\\\transactions_2016.csv')\n"
      ],
      "outputs": [],
      "execution_count": 0
    },
    {
      "cell_type": "code",
      "metadata": {
        "deletable": true,
        "editable": true
      },
      "source": [
        "transactions2016.head()\n"
      ],
      "outputs": [],
      "execution_count": 0
    },
    {
      "cell_type": "markdown",
      "metadata": {
        "deletable": true,
        "editable": true
      },
      "source": [
        "# 2 Initial Data Cleaning\n",
        "\n",
        "* Through visually looking at the text files it was obviouse that the column headers were not consistent across all files. The column names were adjusted for the 2013, 2014, 2015 files to bring them inline with the 2016 file. It was choosen to bring the column names in line with the 2016 file since column names with no spaces are preferred. This will now allow for the concatenatenation of all four files together making additional data cleaning steps easier.\n",
        "\n",
        "* Striped unecessary whitespace from the three string columns (transaction_date, join_date, region).\n",
        "\n",
        "* Date formating in the 2013, 2014, and 2015 file is not in a format that can be easily converted to a datetime datatype. A function was created that could be applied to the transaction_date and join_date column to change string months into numeric months. Completed the cleaning of the date columns by converting the datatype to datetime.\n",
        "\n",
        "* The region column is defined as \"The geographical region where the transaction was made\" it is expected that this column is limited to a managable set of unique values. Which is true. There are 21 unique values and all are individual capital characters.\n",
        "\n",
        "The goal of the inital data cleaning is to have numeric and date columns contrained to a data type. String values should be confirmed to be formatted in a predictable was or confirmed to occupy a set of expected values. In the end:\n",
        "\n",
        "* user - constrained to an integer column and will not cause equivalency issues due to leading zeros or due to the integer being represented as a string.\n",
        "\n",
        "* transaction_date - constrained to a datetime.\n",
        "\n",
        "* sales_amount - constrained to a float64. I can be confident that there wil be no leading currency symbols, no string representations, and the values will be able to be aggregated.\n",
        "\n",
        "* join_date - constrained to a datetime.\n",
        "\n",
        "* region - limited to 21 unique values which is in line with the description of the column.\n",
        "\n"
      ]
    },
    {
      "cell_type": "code",
      "metadata": {
        "deletable": true,
        "editable": true
      },
      "source": [
        "print( transactions2013.columns)\n",
        "print( transactions2014.columns)\n",
        "print( transactions2015.columns)\n",
        "print( transactions2016.columns)\n"
      ],
      "outputs": [],
      "execution_count": 0
    },
    {
      "cell_type": "code",
      "metadata": {
        "deletable": true,
        "editable": true
      },
      "source": [
        "# Rename columns to be consistent accross all files\n",
        "transactions2013.columns = ['user', 'transaction_date', 'sales_amount', 'join_date', 'region']\n",
        "transactions2014.columns = ['user', 'transaction_date', 'sales_amount', 'join_date', 'region']\n",
        "transactions2015.columns = ['user', 'transaction_date', 'sales_amount', 'join_date', 'region']\n"
      ],
      "outputs": [],
      "execution_count": 0
    },
    {
      "cell_type": "code",
      "metadata": {
        "deletable": true,
        "editable": true
      },
      "source": [
        "# Concatenate the 4 files to create a single transaction file\n",
        "dataFrames = [transactions2013, transactions2014, transactions2015, transactions2016]\n",
        "transactions = pd.concat(dataFrames)\n",
        "transactions.head()\n"
      ],
      "outputs": [],
      "execution_count": 0
    },
    {
      "cell_type": "code",
      "metadata": {
        "deletable": true,
        "editable": true
      },
      "source": [
        "# remove any aditional whitespace in the three object(string) columns\n",
        "transactions['transaction_date'] = transactions['transaction_date'].str.strip()\n",
        "transactions['join_date'] = transactions['join_date'].str.strip()\n",
        "transactions['region'] = transactions['region'].str.strip()\n"
      ],
      "outputs": [],
      "execution_count": 0
    },
    {
      "cell_type": "code",
      "metadata": {
        "deletable": true,
        "editable": true
      },
      "source": [
        "print(transactions.dtypes)\n"
      ],
      "outputs": [],
      "execution_count": 0
    },
    {
      "cell_type": "code",
      "metadata": {
        "deletable": true,
        "editable": true
      },
      "source": [
        "monthConversion = {'January':'01', 'February':'02', 'March':'03', 'April':'04', 'May':'05', 'June':'06',\n",
        "                   'July':'07', 'August':'08', 'September':'09', 'October':'10', 'November':'11', 'December':'12'}\n",
        "\n",
        "def convert_string_months(row):\n",
        "    for stringMonth, numberMonth in monthConversion.items():\n",
        "        row = row.replace(stringMonth, numberMonth)\n",
        "    return row\n"
      ],
      "outputs": [],
      "execution_count": 0
    },
    {
      "cell_type": "code",
      "metadata": {
        "deletable": true,
        "editable": true
      },
      "source": [
        "# apply the convert_string_months to change written out month values\n",
        "transactions['transaction_date'] = transactions['transaction_date'].astype(str).apply(convert_string_months)\n",
        "transactions['join_date'] = transactions['join_date'].astype(str).apply(convert_string_months)\n"
      ],
      "outputs": [],
      "execution_count": 0
    },
    {
      "cell_type": "code",
      "metadata": {
        "deletable": true,
        "editable": true
      },
      "source": [
        "transactions['transaction_date'] = pd.to_datetime(transactions['transaction_date'])\n",
        "transactions['join_date'] = pd.to_datetime(transactions['join_date'])\n"
      ],
      "outputs": [],
      "execution_count": 0
    },
    {
      "cell_type": "code",
      "metadata": {
        "deletable": true,
        "editable": true
      },
      "source": [
        "transactions.head()\n"
      ],
      "outputs": [],
      "execution_count": 0
    },
    {
      "cell_type": "code",
      "metadata": {
        "deletable": true,
        "editable": true
      },
      "source": [
        "print(transactions.dtypes)\n"
      ],
      "outputs": [],
      "execution_count": 0
    },
    {
      "cell_type": "code",
      "metadata": {
        "deletable": true,
        "editable": true
      },
      "source": [
        "print( len(transactions['region'].unique()) )\n",
        "print(transactions['region'].unique())\n"
      ],
      "outputs": [],
      "execution_count": 0
    },
    {
      "cell_type": "markdown",
      "metadata": {
        "deletable": true,
        "editable": true
      },
      "source": [
        "## 2.1 Additonal Cleaning - Null Clean up\n",
        "\n",
        "Before any null values are handled there exists 3 sales_amounts that are null along with 11 join_dates.\n",
        "\n",
        "* null sales amounts will be set to 0. It is possible that a user could make a tansaction without there being a sales amount. Perhaps the business released vouchers for free items which when used still created a transaction with a null sales amount.\n",
        "* The join_date is defined as the 'date of the customer's first purchase' if it is null it will be populated with the earliest transaction_date that exists for that user.\n"
      ]
    },
    {
      "cell_type": "code",
      "metadata": {
        "deletable": true,
        "editable": true
      },
      "source": [
        "transactions.isnull().sum(axis=0)\n"
      ],
      "outputs": [],
      "execution_count": 0
    },
    {
      "cell_type": "code",
      "metadata": {
        "deletable": true,
        "editable": true
      },
      "source": [
        "transactions[transactions['sales_amount'].isnull()]\n"
      ],
      "outputs": [],
      "execution_count": 0
    },
    {
      "cell_type": "code",
      "metadata": {
        "deletable": true,
        "editable": true
      },
      "source": [
        "transactions['sales_amount'] = transactions['sales_amount'].fillna(0)\n",
        "transactions[transactions['sales_amount'].isnull()]\n"
      ],
      "outputs": [],
      "execution_count": 0
    },
    {
      "cell_type": "code",
      "metadata": {
        "deletable": true,
        "editable": true
      },
      "source": [
        "transactions[transactions['join_date'].isnull()]\n"
      ],
      "outputs": [],
      "execution_count": 0
    },
    {
      "cell_type": "code",
      "metadata": {
        "deletable": true,
        "editable": true
      },
      "source": [
        "transactions['min_transaction_date'] = transactions.groupby('user')['transaction_date'].transform('min')\n",
        "transactions['join_date'] = transactions['join_date'].fillna(transactions['min_transaction_date'])\n",
        "transactions = transactions.drop('min_transaction_date', axis=1)\n",
        "\n",
        "transactions[transactions['join_date'].isnull()]\n"
      ],
      "outputs": [],
      "execution_count": 0
    },
    {
      "cell_type": "code",
      "metadata": {
        "deletable": true,
        "editable": true
      },
      "source": [
        "transactions.isnull().sum(axis=0)\n"
      ],
      "outputs": [],
      "execution_count": 0
    },
    {
      "cell_type": "markdown",
      "metadata": {
        "deletable": true,
        "editable": true
      },
      "source": [
        "## 2.2 Additonal Cleaning - Understanding the Data\n",
        "\n",
        "At this point i have four questions that i want to answer before i begin extracting value from the data. These questions may inspire additional data cleaning steps that need to be performed.\n"
      ]
    },
    {
      "cell_type": "markdown",
      "metadata": {
        "deletable": true,
        "editable": true
      },
      "source": [
        "### 2.2.1 - Are there any duplicate records?\n",
        "\n",
        "I will need to decided if these should be considered duplicate events and removed, or if they are the user performing the same action twice in one day.\n"
      ]
    },
    {
      "cell_type": "code",
      "metadata": {
        "deletable": true,
        "editable": true
      },
      "source": [
        "print(any(transactions.duplicated()))\n",
        "print(sum(transactions.duplicated(keep=False)))\n"
      ],
      "outputs": [],
      "execution_count": 0
    },
    {
      "cell_type": "code",
      "metadata": {
        "deletable": true,
        "editable": true
      },
      "source": [
        "transactions[transactions.duplicated(['user', 'transaction_date', 'sales_amount'], keep=False)].sort_values(by=['user', 'transaction_date', 'sales_amount']).head(10)\n"
      ],
      "outputs": [],
      "execution_count": 0
    },
    {
      "cell_type": "markdown",
      "metadata": {
        "deletable": true,
        "editable": true
      },
      "source": [
        "There are definitly duplicates. However duplicates will not be removed. It is possible that two different items could be purchased by the same user, on the same date, and for the same amount.\n"
      ]
    },
    {
      "cell_type": "markdown",
      "metadata": {
        "deletable": true,
        "editable": true
      },
      "source": [
        "### 2.2.2 - Are there any transaction dates that occur before the join date?\n",
        "The join_date column is defined as \"the date of a customer's first purchase\" while the transaction_date is defined as \"the date when the transaction was made\". From the column definition there should be no join_dates that occur after the minimum transaction_date for a customer.\n"
      ]
    },
    {
      "cell_type": "code",
      "metadata": {
        "deletable": true,
        "editable": true
      },
      "source": [
        "print( len(transactions[transactions['transaction_date'] < transactions['join_date']]) )\n"
      ],
      "outputs": [],
      "execution_count": 0
    },
    {
      "cell_type": "code",
      "metadata": {
        "deletable": true,
        "editable": true
      },
      "source": [
        "print( len(transactions[transactions['transaction_date'] >= transactions['join_date']]) )\n"
      ],
      "outputs": [],
      "execution_count": 0
    },
    {
      "cell_type": "markdown",
      "metadata": {
        "deletable": true,
        "editable": true
      },
      "source": [
        "There are 6990 records that contain a join date that occurs after the tansaction.\n",
        "\n"
      ]
    },
    {
      "cell_type": "markdown",
      "metadata": {
        "deletable": true,
        "editable": true
      },
      "source": [
        "### 2.2.3 - Does each user have the same join_date across all of their transactions?    \n",
        "\n",
        "Since join_date is defined as \"The date of a customers first purchase\" a customer should not have multiple join dates in the transaction files.\n"
      ]
    },
    {
      "cell_type": "code",
      "metadata": {
        "deletable": true,
        "editable": true
      },
      "source": [
        "transactions[['user', 'join_date']].groupby(['user', 'join_date']).agg({'join_date': 'count'}).head(10)\n"
      ],
      "outputs": [],
      "execution_count": 0
    },
    {
      "cell_type": "markdown",
      "metadata": {
        "deletable": true,
        "editable": true
      },
      "source": [
        "From the above output it is visible that not all users have the same join_date accross all of their transactions. User 7 has their join dates divided amongst 2009-04-05 and 2009-05-04.\n"
      ]
    },
    {
      "cell_type": "markdown",
      "metadata": {
        "deletable": true,
        "editable": true
      },
      "source": [
        "### 2.2.4 - Fixing the data issues found in 2.2.2 and 2.2.3\n",
        "\n",
        "To bring the join_date column in line with its business definition join_date will be fixed in a two step process. If this is not resolved before the cohort analysis the cohort triangles will look more like cohort rectangles.\n",
        "\n",
        "1. For each row set join_date equal to the minimum of join_date and transaction_date\n",
        "2. For each user set their join_date for all transaction equal to their minimum join_date on the transaction file.\n",
        "\n",
        "This will ensure that no rows will contain a join_date that comes after the transaction_date, and that each user has only one join_date.\n"
      ]
    },
    {
      "cell_type": "code",
      "metadata": {
        "deletable": true,
        "editable": true
      },
      "source": [
        "transactions['join_date'] = transactions[['transaction_date', 'join_date']].min(axis=1)\n",
        "\n",
        "transactions['join_date'] = transactions[['user', 'join_date']].groupby(['user']).transform('min')\n"
      ],
      "outputs": [],
      "execution_count": 0
    },
    {
      "cell_type": "code",
      "metadata": {
        "deletable": true,
        "editable": true
      },
      "source": [
        "print( len(transactions[transactions['transaction_date'] < transactions['join_date']]) )\n"
      ],
      "outputs": [],
      "execution_count": 0
    },
    {
      "cell_type": "code",
      "metadata": {
        "deletable": true,
        "editable": true
      },
      "source": [
        "transactions[['user', 'join_date']].groupby(['user', 'join_date']).agg({'join_date': 'count'}).head(10)\n"
      ],
      "outputs": [],
      "execution_count": 0
    },
    {
      "cell_type": "code",
      "metadata": {
        "deletable": true,
        "editable": true
      },
      "source": [
        "transactions[['user', 'join_date']].groupby(['user', 'join_date']).agg({'join_date': 'count'}).shape\n"
      ],
      "outputs": [],
      "execution_count": 0
    },
    {
      "cell_type": "markdown",
      "metadata": {
        "deletable": true,
        "editable": true
      },
      "source": [
        "Now their exists no transaction dates that come before the join_date. There are also no users that have more than one unique join_date accross their set of transactions.\n"
      ]
    },
    {
      "cell_type": "markdown",
      "metadata": {
        "deletable": true,
        "editable": true
      },
      "source": [
        "### 2.2.5 - Are there any sales amounts that are negative?\n",
        "\n",
        "These could indicate that the system is recording returns or adjustments. Should negative sales amounts contribute to revenue summations. This might depend on how strict of an accountant will be analyzing this report. For this challenge i will leave negative sales amounts unchanged.\n"
      ]
    },
    {
      "cell_type": "code",
      "metadata": {
        "deletable": true,
        "editable": true
      },
      "source": [
        "len(transactions[transactions['sales_amount'] < 0])\n"
      ],
      "outputs": [],
      "execution_count": 0
    },
    {
      "cell_type": "code",
      "metadata": {
        "deletable": true,
        "editable": true
      },
      "source": [
        "transactions[transactions['sales_amount'] < 0].head()\n"
      ],
      "outputs": [],
      "execution_count": 0
    },
    {
      "cell_type": "markdown",
      "metadata": {
        "deletable": true,
        "editable": true
      },
      "source": [
        "There are negative sales amounts. I will be treating these as returns / adjustments for previous transactions and i will not be removing them.\n"
      ]
    },
    {
      "cell_type": "markdown",
      "metadata": {
        "deletable": true,
        "editable": true
      },
      "source": [
        "# 3 Compute Yearly Time Series Metrics\n",
        "\n",
        "a. Revenue\n",
        "\n",
        "    Total sales during the year\n",
        "\n",
        "b. Active User Count\n",
        "\n",
        "    Total unique users that completed a transaction\n",
        "\n",
        "c. Average Recenue Per Active User\n",
        "\n",
        "    (Revenue) / (Active User Count)\n"
      ]
    },
    {
      "cell_type": "code",
      "metadata": {
        "deletable": true,
        "editable": true
      },
      "source": [
        "timeSeries = transactions.copy()\n",
        "\n",
        "groupedTimeSeries = timeSeries.groupby(timeSeries['transaction_date'].dt.year)\n",
        "\n",
        "groupedTimeSeries = groupedTimeSeries.agg({'sales_amount': 'sum', 'user': 'nunique'})\n",
        "\n",
        "groupedTimeSeries['Average Revenue Per Active User'] = groupedTimeSeries['sales_amount'] / groupedTimeSeries['user']\n"
      ],
      "outputs": [],
      "execution_count": 0
    },
    {
      "cell_type": "code",
      "metadata": {
        "deletable": true,
        "editable": true
      },
      "source": [
        "# rename columns and index for display purposes\n",
        "groupedTimeSeries.index.name = 'Transaction Year'\n",
        "groupedTimeSeries.columns = ['Revenue', 'Active User Count', 'Average Revenue Per Active User']\n"
      ],
      "outputs": [],
      "execution_count": 0
    },
    {
      "cell_type": "code",
      "metadata": {
        "deletable": true,
        "editable": true
      },
      "source": [
        "# Format dollar values\n",
        "groupedTimeSeries['Revenue'] = groupedTimeSeries['Revenue'].map(locale.currency)\n",
        "groupedTimeSeries['Average Revenue Per Active User'] = groupedTimeSeries['Average Revenue Per Active User'].map(locale.currency)\n"
      ],
      "outputs": [],
      "execution_count": 0
    },
    {
      "cell_type": "code",
      "metadata": {
        "deletable": true,
        "editable": true
      },
      "source": [
        "timeSeriesMetrics = groupedTimeSeries.rename_axis('Metrics', axis='columns').transpose()\n",
        "\n",
        "timeSeriesMetrics\n"
      ],
      "outputs": [],
      "execution_count": 0
    },
    {
      "cell_type": "markdown",
      "metadata": {
        "deletable": true,
        "editable": true
      },
      "source": [
        "# 4 Compute Yearly New Users Joined\n"
      ]
    },
    {
      "cell_type": "code",
      "metadata": {
        "deletable": true,
        "editable": true
      },
      "source": [
        "newUsers = transactions.copy()\n",
        "\n",
        "newUsers = newUsers.groupby(newUsers['join_date'].dt.year)\n",
        "newUsers = newUsers.agg({'user': 'nunique'})\n",
        "\n",
        "newUsers.index.name = 'Year'\n",
        "newUsers.columns = ['New Users Joined']\n",
        "newUsers.index = newUsers.index.astype(int)\n"
      ],
      "outputs": [],
      "execution_count": 0
    },
    {
      "cell_type": "code",
      "metadata": {
        "deletable": true,
        "editable": true
      },
      "source": [
        "#Check that the sum of New Users Joined adds up to the number of unique users\n",
        "print( newUsers['New Users Joined'].sum() )\n",
        "\n",
        "print( len(transactions.user.unique()) )\n"
      ],
      "outputs": [],
      "execution_count": 0
    },
    {
      "cell_type": "code",
      "metadata": {
        "deletable": true,
        "editable": true
      },
      "source": [
        "newUsers\n"
      ],
      "outputs": [],
      "execution_count": 0
    },
    {
      "cell_type": "code",
      "metadata": {
        "deletable": true,
        "editable": true
      },
      "source": [
        "plt.figure(figsize=(14, 10))\n",
        "ax = sns.barplot(newUsers.index, y=newUsers['New Users Joined'], data=newUsers, color = 'blue')\n",
        "ax.set(xlabel='Year', ylabel='Count of New Users Joined', title='New Users Joined')\n",
        "plt.show()\n"
      ],
      "outputs": [],
      "execution_count": 0
    },
    {
      "cell_type": "markdown",
      "metadata": {
        "deletable": true,
        "editable": true
      },
      "source": [
        "# 5 Cohort Analysis\n",
        "\n",
        "Group users into cohorts based off of the year that they made their first purchase (join_date).\n"
      ]
    },
    {
      "cell_type": "code",
      "metadata": {
        "deletable": true,
        "editable": true
      },
      "source": [
        "transactionCohort = transactions.copy()\n",
        "\n",
        "transactionCohort['cohort_year'] = transactionCohort['join_date'].dt.year.astype(int)\n",
        "transactionCohort['transaction_year'] = transactionCohort['transaction_date'].dt.year.astype(int)\n",
        "\n",
        "transactionCohort.head()\n"
      ],
      "outputs": [],
      "execution_count": 0
    },
    {
      "cell_type": "markdown",
      "metadata": {
        "deletable": true,
        "editable": true
      },
      "source": [
        "Group transactions by the users cohort year and the transaction year. These groupings will be at the same granularity as the individual cells on the cohort triangle.\n"
      ]
    },
    {
      "cell_type": "code",
      "metadata": {
        "deletable": true,
        "editable": true
      },
      "source": [
        "groupedCohort = transactionCohort.groupby(['cohort_year', 'transaction_year'])\n",
        "\n",
        "cohorts = groupedCohort.agg({'sales_amount': 'sum',\n",
        "                             'user': 'nunique'})\n",
        "\n",
        "cohorts['average_revenue_per_active_user'] = cohorts['sales_amount'] / cohorts['user']\n",
        "\n",
        "cohorts.columns = [ 'revenue', 'active_user_count', 'average_revenue_per_active_user']\n",
        "\n",
        "cohorts.head(10)\n"
      ],
      "outputs": [],
      "execution_count": 0
    },
    {
      "cell_type": "markdown",
      "metadata": {
        "deletable": true,
        "editable": true
      },
      "source": [
        "To compute the cohort triangle for Average Revenue Per User the cummulative sum of users that have joined up until the transaction date will need to be known. This can easily be added to the data frame by joining the results from part 4 to the cohorts triangle data table.\n"
      ]
    },
    {
      "cell_type": "code",
      "metadata": {
        "deletable": true,
        "editable": true
      },
      "source": [
        "cummulativeNewUsers = newUsers.copy()\n",
        "cummulativeNewUsers['total_users'] = cummulativeNewUsers['New Users Joined'].cumsum()\n",
        "\n",
        "cohortsJoined = pd.merge(cohorts.reset_index(), cummulativeNewUsers.reset_index(), how='left', left_on='cohort_year', right_on='Year').set_index(['cohort_year', 'transaction_year'])\n",
        "\n",
        "cohortsJoined = cohortsJoined.drop('New Users Joined', axis=1)\n",
        "\n",
        "cohortsJoined['average_revenue_per_user'] = cohortsJoined['revenue'] / cohortsJoined['total_users']\n",
        "\n",
        "cohortsJoined['lifetime_value'] = cohortsJoined.reset_index().groupby(['cohort_year', 'transaction_year'])['average_revenue_per_user'].sum().groupby(level=[0]).cumsum()\n",
        "\n",
        "cohortsJoined.head(10)\n"
      ],
      "outputs": [],
      "execution_count": 0
    },
    {
      "cell_type": "code",
      "metadata": {
        "deletable": true,
        "editable": true
      },
      "source": [
        "cohortsJoined['revenue'] \n",
        "cohortsJoined['average_revenue_per_active_user']\n",
        "cohortsJoined['average_revenue_per_user'] \n",
        "cohortsJoined['lifetime_value'] \n",
        "\n",
        "cohortsJoined.head(10)\n"
      ],
      "outputs": [],
      "execution_count": 0
    },
    {
      "cell_type": "markdown",
      "metadata": {
        "deletable": true,
        "editable": true
      },
      "source": [
        "## 5.1 Revenue Cohort\n",
        "\n",
        "Total revenue by year of first purchase c and by year of purchase t \n"
      ]
    },
    {
      "cell_type": "code",
      "metadata": {
        "deletable": true,
        "editable": true
      },
      "source": [
        "revenueCohort = cohortsJoined['revenue'].unstack(0).transpose()\n",
        "revenueCohort\n"
      ],
      "outputs": [],
      "execution_count": 0
    },
    {
      "cell_type": "code",
      "metadata": {
        "deletable": true,
        "editable": true
      },
      "source": [
        "plt.figure(figsize=(16, 12))\n",
        "plt.title('Revenue Cohort ($)')\n",
        "htmp = sns.heatmap(revenueCohort, annot=True, fmt='g')\n",
        "htmp.set(xlabel='Transaction Year', ylabel='Cohort Year')\n",
        "plt.show()\n"
      ],
      "outputs": [],
      "execution_count": 0
    },
    {
      "cell_type": "markdown",
      "metadata": {
        "deletable": true,
        "editable": true
      },
      "source": [
        "## 5.2 Active User Count Cohort\n",
        "\n",
        "Total revenue by year of first purchase c and by year of purchase t \n"
      ]
    },
    {
      "cell_type": "code",
      "metadata": {
        "deletable": true,
        "editable": true
      },
      "source": [
        "activeUserCountCohort = cohortsJoined['active_user_count'].unstack(0).transpose()\n",
        "activeUserCountCohort\n"
      ],
      "outputs": [],
      "execution_count": 0
    },
    {
      "cell_type": "code",
      "metadata": {
        "deletable": true,
        "editable": true
      },
      "source": [
        "plt.figure(figsize=(16, 12))\n",
        "plt.title('Active User Count Cohort')\n",
        "htmp = sns.heatmap(activeUserCountCohort, annot=True, fmt='g')\n",
        "htmp.set(xlabel='Transaction Year', ylabel='Cohort Year')\n",
        "plt.show()\n"
      ],
      "outputs": [],
      "execution_count": 0
    },
    {
      "cell_type": "markdown",
      "metadata": {
        "deletable": true,
        "editable": true
      },
      "source": [
        "## 5.3 Average Revenue per Active User Cohort\n",
        "\n",
        "Revenue (at year t, cohort year c) / Active User Count (at year t, cohort year c)\n"
      ]
    },
    {
      "cell_type": "code",
      "metadata": {
        "deletable": true,
        "editable": true
      },
      "source": [
        "averageRevenueActiveUserCohort = cohortsJoined['average_revenue_per_active_user'].unstack(0).transpose()\n",
        "averageRevenueActiveUserCohort\n"
      ],
      "outputs": [],
      "execution_count": 0
    },
    {
      "cell_type": "code",
      "metadata": {
        "deletable": true,
        "editable": true
      },
      "source": [
        "plt.figure(figsize=(16, 12))\n",
        "plt.title('Average Revenue Per Active User Cohort ($)')\n",
        "htmp = sns.heatmap(averageRevenueActiveUserCohort, annot=True, fmt='g')\n",
        "htmp.set(xlabel='Transaction Year', ylabel='Cohort Year')\n",
        "plt.show()\n"
      ],
      "outputs": [],
      "execution_count": 0
    },
    {
      "cell_type": "markdown",
      "metadata": {
        "deletable": true,
        "editable": true
      },
      "source": [
        "## 5.4 Average Revenue per User Cohort\n",
        "\n",
        "Revenue (at year t, cohort year c) / New Users Joined (at cohort year c)\n"
      ]
    },
    {
      "cell_type": "code",
      "metadata": {
        "deletable": true,
        "editable": true
      },
      "source": [
        "averageRevenueUserCohort = cohortsJoined['average_revenue_per_user'].unstack(0).transpose()\n",
        "averageRevenueUserCohort\n"
      ],
      "outputs": [],
      "execution_count": 0
    },
    {
      "cell_type": "code",
      "metadata": {
        "deletable": true,
        "editable": true
      },
      "source": [
        "plt.figure(figsize=(16, 12))\n",
        "plt.title('Average Revenue per User Cohort ($)')\n",
        "htmp = sns.heatmap(averageRevenueUserCohort, annot=True, fmt='g')\n",
        "htmp.set(xlabel='Transaction Year', ylabel='Cohort Year')\n",
        "plt.show()\n"
      ],
      "outputs": [],
      "execution_count": 0
    },
    {
      "cell_type": "markdown",
      "metadata": {
        "deletable": true,
        "editable": true
      },
      "source": [
        "## 5.5 Lifetime Value Cohort\n",
        "\n",
        "Cumulative Sum of Average Revenue Per User along cohort year c\n"
      ]
    },
    {
      "cell_type": "code",
      "metadata": {
        "deletable": true,
        "editable": true
      },
      "source": [
        "lifeTimeValueCohort = cohortsJoined['lifetime_value'].unstack(0).transpose()\n",
        "lifeTimeValueCohort\n"
      ],
      "outputs": [],
      "execution_count": 0
    },
    {
      "cell_type": "code",
      "metadata": {
        "deletable": true,
        "editable": true
      },
      "source": [
        "plt.figure(figsize=(16, 12))\n",
        "plt.title('Life Time Value Cohort ($)')\n",
        "htmp = sns.heatmap(lifeTimeValueCohort, annot=True, fmt='g')\n",
        "htmp.set(xlabel='Transaction Year', ylabel='Cohort Year')\n",
        "plt.show()\n"
      ],
      "outputs": [],
      "execution_count": 0
    },
    {
      "cell_type": "markdown",
      "metadata": {
        "deletable": true,
        "editable": true
      },
      "source": [
        "For the purpose of keeping the report concise i will not be doing the extra credit. However, building the reports for each region would be as simple as filtering the transactions using the following statement prior to building the tables and charts.\n",
        "\n",
        "transactions[transactions['region'] == 'region value']\n",
        "\n",
        "To create the reports for monthly groupings instead of yearly groupings would involve first representing month/year combinations as an integer formated as yyyymm. This integer representation of the year/month could then be used instead of the year when contructing the time series metrics, new users joined, and cohort triangles.\n",
        "\n",
        "\n"
      ]
    },
    {
      "cell_type": "code",
      "metadata": {
        "deletable": true,
        "editable": true
      },
      "source": [
        "\n"
      ],
      "outputs": [],
      "execution_count": 0
    },
    {
      "cell_type": "code",
      "metadata": {
        "deletable": true,
        "editable": true
      },
      "source": [
        "\n"
      ],
      "outputs": [],
      "execution_count": 0
    }
  ],
  "metadata": {
    "kernelspec": {
      "name": "python3",
      "display_name": "Python 3",
      "language": "python"
    },
    "language_info": {
      "mimetype": "text/x-python",
      "nbconvert_exporter": "python",
      "version": "3.6.0",
      "name": "python",
      "file_extension": ".py",
      "pygments_lexer": "ipython3",
      "codemirror_mode": {
        "version": 3,
        "name": "ipython"
      }
    }
  },
  "nbformat": 4,
  "nbformat_minor": 2
}