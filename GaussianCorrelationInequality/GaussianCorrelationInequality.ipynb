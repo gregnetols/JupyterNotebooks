{
 "cells": [
  {
   "cell_type": "code",
   "execution_count": 19,
   "metadata": {
    "collapsed": true
   },
   "outputs": [],
   "source": [
    "#import libraries\n",
    "import numpy as np\n",
    "import matplotlib.pyplot as plt\n",
    "import matplotlib.patches as patches\n",
    "import math"
   ]
  },
  {
   "cell_type": "code",
   "execution_count": 57,
   "metadata": {
    "collapsed": false
   },
   "outputs": [],
   "source": [
    "# function that generates a n dimensional matrix of k samples of the guassian distribution\n",
    "\n",
    "def GaussianSamples(mu, sigma, points):\n",
    "    gaussian_samples = np.random.normal(mu, sigma, (points,2))\n",
    "    \n",
    "    return [tuple(sample) for sample in gaussian_samples]\n",
    "    \n"
   ]
  },
  {
   "cell_type": "code",
   "execution_count": 66,
   "metadata": {
    "collapsed": true
   },
   "outputs": [],
   "source": [
    "def in_rectangle(point, center, width, height):\n",
    "    x, y = point[0], point[1]\n",
    "\n",
    "    if (x < center[0] + width/2.0) and (x > center[0] - width/2.0) and (y < center[1] + height/2.0) and (y > center[1] - height/2.0):\n",
    "        return True\n",
    "        \n",
    "    return False\n",
    "\n",
    "def in_circle(point, center, radius):\n",
    "    x, y = point[0], point[1]\n",
    "\n",
    "    distance = math.sqrt( (center[0] - x)**2 + (center[1] - y)**2 )\n",
    "\n",
    "    if radius > distance:\n",
    "        return True\n",
    "        \n",
    "    return False"
   ]
  },
  {
   "cell_type": "code",
   "execution_count": 58,
   "metadata": {
    "collapsed": false
   },
   "outputs": [
    {
     "data": {
      "text/plain": [
       "[(0.092306078985486914, 1.3253364311709517),\n",
       " (1.4389817510202838, 0.018797015371122574),\n",
       " (-0.67076975048781173, -0.71279417995133854),\n",
       " (-0.23983288300075709, -0.11930117936267073),\n",
       " (0.21809376622653354, 0.2457451777560182),\n",
       " (-0.27723387546154554, 1.1769992888396681),\n",
       " (0.52022480336427979, 1.2117979461474055),\n",
       " (1.2577972627924825, -0.68473272094149862),\n",
       " (-0.24512314189081111, 0.69709797594623779),\n",
       " (-2.1779191127496622, 0.3595130144777991),\n",
       " (0.64609717504332076, 1.8496008479180102),\n",
       " (-0.11462706263616101, -0.16145798816264403),\n",
       " (-0.45147002801427399, -0.046814606410303078),\n",
       " (-0.31257820420501081, 1.1956702445160987),\n",
       " (1.731199472882631, 1.0243687432868738),\n",
       " (-1.8306018628087344, 0.9600089853101873),\n",
       " (-0.51848064986902964, 0.58273199938614695),\n",
       " (-0.15206387572550675, -0.39114061621940999),\n",
       " (-0.80413981884287178, 1.0936454012813979),\n",
       " (-1.1006363984553853, 0.64118014684257363)]"
      ]
     },
     "execution_count": 58,
     "metadata": {},
     "output_type": "execute_result"
    }
   ],
   "source": [
    "# Create a 2 dimensional sample of 10 points generated y the gaussian distribution\n",
    "samples = GaussianSamples(mu=0, sigma=1, points=100)\n",
    "\n",
    "# Display first 20 rows\n",
    "samples[:20]"
   ]
  },
  {
   "cell_type": "code",
   "execution_count": 59,
   "metadata": {
    "collapsed": false
   },
   "outputs": [
    {
     "data": {
      "image/png": "[encoded data removed]",
      "text/plain": [
       "<matplotlib.figure.Figure at 0x1edd0498198>"
      ]
     },
     "metadata": {},
     "output_type": "display_data"
    }
   ],
   "source": [
    "# Plot the points\n",
    "\n",
    "fig1 = plt.figure()\n",
    "x = [point[0] for point in samples]\n",
    "y = [point[1] for point in samples]\n",
    "fig1 = plt.plot(x, y, 'ro')\n",
    "plt.axis('equal')\n",
    "\n",
    "plt.show()"
   ]
  },
  {
   "cell_type": "code",
   "execution_count": 60,
   "metadata": {
    "collapsed": false
   },
   "outputs": [
    {
     "data": {
      "image/png": "[encoded data removed]",
      "text/plain": [
       "<matplotlib.figure.Figure at 0x1edd04639b0>"
      ]
     },
     "metadata": {},
     "output_type": "display_data"
    }
   ],
   "source": [
    "# Plot points with circle\n",
    "\n",
    "fig2, ax = plt.subplots(1)\n",
    "\n",
    "x = [point[0] for point in samples]\n",
    "y = [point[1] for point in samples]\n",
    "fig2 = plt.plot(x, y, 'ro')\n",
    "circle = plt.Circle((0,0), radius=1, fill = False)\n",
    "ax.add_artist(circle)\n",
    "plt.axis('equal')\n",
    "\n",
    "plt.show()"
   ]
  },
  {
   "cell_type": "code",
   "execution_count": 64,
   "metadata": {
    "collapsed": false
   },
   "outputs": [
    {
     "data": {
      "text/plain": [
       "0.47"
      ]
     },
     "execution_count": 64,
     "metadata": {},
     "output_type": "execute_result"
    }
   ],
   "source": [
    "# The approximate probability that a point generated from the Gaussian distribution ends up in the above circle.\n",
    "\n",
    "circle_probability = sum([1 for sample in samples if in_circle(point=sample, center=(0,0), radius=1)])/len(samples)\n",
    "\n",
    "circle_probability"
   ]
  },
  {
   "cell_type": "code",
   "execution_count": 15,
   "metadata": {
    "collapsed": false
   },
   "outputs": [
    {
     "data": {
      "image/png": "[encoded data removed]",
      "text/plain": [
       "<matplotlib.figure.Figure at 0x1edcff273c8>"
      ]
     },
     "metadata": {},
     "output_type": "display_data"
    }
   ],
   "source": [
    "# Plot points with a rectangle\n",
    "\n",
    "fig3, ax = plt.subplots(1)\n",
    "fig3 = plt.plot(samples[0], samples[1], 'ro')\n",
    "rectangle = patches.Rectangle((-2,-.5), 4, 1, fill = False)\n",
    "ax.add_patch(rectangle)\n",
    "plt.axis('equal')\n",
    "\n",
    "plt.show()"
   ]
  },
  {
   "cell_type": "code",
   "execution_count": 67,
   "metadata": {
    "collapsed": false
   },
   "outputs": [
    {
     "data": {
      "text/plain": [
       "0.49"
      ]
     },
     "execution_count": 67,
     "metadata": {},
     "output_type": "execute_result"
    }
   ],
   "source": [
    "# The approximate probability that a point generated from the Gaussian distribution ends up in the above rectangle.\n",
    "\n",
    "rectangle_probability = sum([1 for sample in samples if in_rectangle(point=sample, center=(0,0), height=4, width=1)])/len(samples)\n",
    "\n",
    "rectangle_probability"
   ]
  },
  {
   "cell_type": "code",
   "execution_count": 16,
   "metadata": {
    "collapsed": false
   },
   "outputs": [
    {
     "data": {
      "image/png": "[encoded data removed]",
      "text/plain": [
       "<matplotlib.figure.Figure at 0x1edcffeb8d0>"
      ]
     },
     "metadata": {},
     "output_type": "display_data"
    }
   ],
   "source": [
    "# Plot points with circle and rectangle\n",
    "\n",
    "fig4, ax = plt.subplots(1)\n",
    "fig4 = plt.plot(samples[0], samples[1], 'ro')\n",
    "rectangle = patches.Rectangle((-2,-.5), 4, 1, fill = False)\n",
    "circle = plt.Circle((0,0), radius=1, fill = False)\n",
    "ax.add_artist(circle)\n",
    "ax.add_patch(rectangle)\n",
    "plt.axis('equal')\n",
    "\n",
    "plt.show()"
   ]
  },
  {
   "cell_type": "code",
   "execution_count": 69,
   "metadata": {
    "collapsed": false
   },
   "outputs": [
    {
     "data": {
      "text/plain": [
       "0.38"
      ]
     },
     "execution_count": 69,
     "metadata": {},
     "output_type": "execute_result"
    }
   ],
   "source": [
    "# The approximate probability that a point generated from the Gaussian distribution ends up in the above rectangle and circle.\n",
    "\n",
    "rectangle_circle_probability = sum([1 for sample in samples if in_rectangle(point=sample, center=(0,0), height=4, width=1) and in_circle(point=sample, center=(0,0), radius=1)])/len(samples)\n",
    "\n",
    "rectangle_circle_probability"
   ]
  },
  {
   "cell_type": "code",
   "execution_count": 70,
   "metadata": {
    "collapsed": false
   },
   "outputs": [
    {
     "data": {
      "text/plain": [
       "True"
      ]
     },
     "execution_count": 70,
     "metadata": {},
     "output_type": "execute_result"
    }
   ],
   "source": [
    "rectangle_circle_probability >= circle_probability * rectangle_probability"
   ]
  },
  {
   "cell_type": "code",
   "execution_count": null,
   "metadata": {
    "collapsed": true
   },
   "outputs": [],
   "source": []
  }
 ],
 "metadata": {
  "kernelspec": {
   "display_name": "Python 3",
   "language": "python",
   "name": "python3"
  },
  "language_info": {
   "codemirror_mode": {
    "name": "ipython",
    "version": 3
   },
   "file_extension": ".py",
   "mimetype": "text/x-python",
   "name": "python",
   "nbconvert_exporter": "python",
   "pygments_lexer": "ipython3",
   "version": "3.6.6"
  }
 },
 "nbformat": 4,
 "nbformat_minor": 2
}
